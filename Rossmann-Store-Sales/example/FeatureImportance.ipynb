{
 "cells": [
  {
   "cell_type": "code",
   "execution_count": 36,
   "metadata": {
    "collapsed": false
   },
   "outputs": [
    {
     "name": "stdout",
     "output_type": "stream",
     "text": [
      "Load the training, test and store data using pandas\n",
      "Assume store open, if not provided\n",
      "Consider only open stores for training. Closed stores wont count into the score.\n",
      "Use only Sales bigger then zero. Simplifies calculation of rmspe\n",
      "Join with store\n",
      "augment features\n",
      "['Store', 'CompetitionDistance', 'Promo', 'Promo2', 'SchoolHoliday', 'StoreType', 'Assortment', 'StateHoliday', 'DayOfWeek', 'Month', 'Day', 'Year', 'WeekOfYear', 'CompetitionOpen', 'PromoOpen', 'IsPromoMonth']\n",
      "training data processed\n",
      "Train a XGBoost model\n"
     ]
    }
   ],
   "source": [
    "#!/usr/bin/python\n",
    "\n",
    "'''\n",
    "Based on https://www.kaggle.com/justdoit/rossmann-store-sales/xgboost-in-python-with-rmspe/code\n",
    "Public Score :  0.11389\n",
    "Private Validation Score :  0.096959\n",
    "'''\n",
    "\n",
    "import pandas as pd\n",
    "import numpy as np\n",
    "from sklearn.cross_validation import train_test_split\n",
    "import xgboost as xgb\n",
    "import operator\n",
    "import matplotlib\n",
    "matplotlib.use(\"Agg\") #Needed to save figures\n",
    "import matplotlib.pyplot as plt\n",
    "\n",
    "def create_feature_map(features):\n",
    "    outfile = open('xgb.fmap', 'w')\n",
    "    for i, feat in enumerate(features):\n",
    "        outfile.write('{0}\\t{1}\\tq\\n'.format(i, feat))\n",
    "    outfile.close()\n",
    "\n",
    "def rmspe(y, yhat):\n",
    "    return np.sqrt(np.mean((yhat/y-1) ** 2))\n",
    "\n",
    "def rmspe_xg(yhat, y):\n",
    "    y = np.expm1(y.get_label())\n",
    "    yhat = np.expm1(yhat)\n",
    "    return \"rmspe\", rmspe(y,yhat)\n",
    "\n",
    "# Gather some features\n",
    "def build_features(features, data):\n",
    "    # remove NaNs\n",
    "    data.fillna(0, inplace=True)\n",
    "    data.loc[data.Open.isnull(), 'Open'] = 1\n",
    "    # Use some properties directly\n",
    "    features.extend(['Store', 'CompetitionDistance', 'Promo', 'Promo2', 'SchoolHoliday'])\n",
    "\n",
    "    # Label encode some features\n",
    "    features.extend(['StoreType', 'Assortment', 'StateHoliday'])\n",
    "    mappings = {'0':0, 'a':1, 'b':2, 'c':3, 'd':4}\n",
    "    data.StoreType.replace(mappings, inplace=True)\n",
    "    data.Assortment.replace(mappings, inplace=True)\n",
    "    data.StateHoliday.replace(mappings, inplace=True)\n",
    "\n",
    "    features.extend(['DayOfWeek', 'Month', 'Day', 'Year', 'WeekOfYear'])\n",
    "    data['Year'] = data.Date.dt.year\n",
    "    data['Month'] = data.Date.dt.month\n",
    "    data['Day'] = data.Date.dt.day\n",
    "    data['DayOfWeek'] = data.Date.dt.dayofweek\n",
    "    data['WeekOfYear'] = data.Date.dt.weekofyear\n",
    "\n",
    "    # CompetionOpen en PromoOpen from https://www.kaggle.com/ananya77041/rossmann-store-sales/randomforestpython/code\n",
    "    # Calculate time competition open time in months\n",
    "    features.append('CompetitionOpen')\n",
    "    data['CompetitionOpen'] = 12 * (data.Year - data.CompetitionOpenSinceYear) + \\\n",
    "        (data.Month - data.CompetitionOpenSinceMonth)\n",
    "    # Promo open time in months\n",
    "    features.append('PromoOpen')\n",
    "    data['PromoOpen'] = 12 * (data.Year - data.Promo2SinceYear) + \\\n",
    "        (data.WeekOfYear - data.Promo2SinceWeek) / 4.0\n",
    "    data['PromoOpen'] = data.PromoOpen.apply(lambda x: x if x > 0 else 0)\n",
    "    data.loc[data.Promo2SinceYear == 0, 'PromoOpen'] = 0\n",
    "\n",
    "    # Indicate that sales on that day are in promo interval\n",
    "    features.append('IsPromoMonth')\n",
    "    month2str = {1:'Jan', 2:'Feb', 3:'Mar', 4:'Apr', 5:'May', 6:'Jun', \\\n",
    "             7:'Jul', 8:'Aug', 9:'Sept', 10:'Oct', 11:'Nov', 12:'Dec'}\n",
    "    data['monthStr'] = data.Month.map(month2str)\n",
    "    data.loc[data.PromoInterval == 0, 'PromoInterval'] = ''\n",
    "    data['IsPromoMonth'] = 0\n",
    "    for interval in data.PromoInterval.unique():\n",
    "        if interval != '':\n",
    "            for month in interval.split(','):\n",
    "                data.loc[(data.monthStr == month) & (data.PromoInterval == interval), 'IsPromoMonth'] = 1\n",
    "\n",
    "    return data\n",
    "\n",
    "\n",
    "## Start of main script\n",
    "\n",
    "print(\"Load the training, test and store data using pandas\")\n",
    "types = {'CompetitionOpenSinceYear': np.dtype(int),\n",
    "         'CompetitionOpenSinceMonth': np.dtype(int),\n",
    "         'StateHoliday': np.dtype(str),\n",
    "         'Promo2SinceWeek': np.dtype(int),\n",
    "         'SchoolHoliday': np.dtype(float),\n",
    "         'PromoInterval': np.dtype(str)}\n",
    "train = pd.read_csv(\"../train.csv\", parse_dates=[2], dtype=types)\n",
    "test = pd.read_csv(\"../test.csv\", parse_dates=[3], dtype=types)\n",
    "store = pd.read_csv(\"../store.csv\")\n",
    "\n",
    "print(\"Assume store open, if not provided\")\n",
    "train.fillna(1, inplace=True)\n",
    "test.fillna(1, inplace=True)\n",
    "\n",
    "print(\"Consider only open stores for training. Closed stores wont count into the score.\")\n",
    "train = train[train[\"Open\"] != 0]\n",
    "print(\"Use only Sales bigger then zero. Simplifies calculation of rmspe\")\n",
    "train = train[train[\"Sales\"] > 0]\n",
    "\n",
    "print(\"Join with store\")\n",
    "train = pd.merge(train, store, on='Store')\n",
    "test = pd.merge(test, store, on='Store')\n",
    "\n",
    "features = []\n",
    "\n",
    "print(\"augment features\")\n",
    "build_features(features, train)\n",
    "build_features([], test)\n",
    "print(features)\n",
    "\n",
    "print('training data processed')\n",
    "\n",
    "params = {\"objective\": \"reg:linear\",\n",
    "          \"booster\" : \"gbtree\",\n",
    "          \"eta\": 0.3,\n",
    "          \"max_depth\": 10,\n",
    "          \"subsample\": 0.9,\n",
    "          \"colsample_bytree\": 0.7,\n",
    "          \"silent\": 1,\n",
    "          \"seed\": 1301\n",
    "          }\n",
    "\n",
    "\n",
    "print(\"Train a XGBoost model\")\n",
    "X_train, X_valid = train_test_split(train, test_size=0.012, random_state=10)\n",
    "y_train = np.log1p(X_train.Sales)\n",
    "y_valid = np.log1p(X_valid.Sales)\n",
    "dtrain = xgb.DMatrix(X_train[features], y_train)\n",
    "dvalid = xgb.DMatrix(X_valid[features], y_valid) "
   ]
  },
  {
   "cell_type": "code",
   "execution_count": 37,
   "metadata": {
    "collapsed": true
   },
   "outputs": [],
   "source": [
    "watchlist = [(dtrain,'train'),(dvalid,'eval')]"
   ]
  },
  {
   "cell_type": "code",
   "execution_count": 40,
   "metadata": {
    "collapsed": false
   },
   "outputs": [
    {
     "name": "stdout",
     "output_type": "stream",
     "text": [
      "[0]\ttrain-rmse:5.79364\teval-rmse:5.7942\ttrain-rmspe:0.996841\teval-rmspe:0.996842\n",
      "Multiple eval metrics have been passed: 'eval-rmspe' will be used for early stopping.\n",
      "\n",
      "Will train until eval-rmspe hasn't improved in 100 rounds.\n",
      "[1]\ttrain-rmse:4.06278\teval-rmse:4.06413\ttrain-rmspe:0.981536\teval-rmspe:0.981554\n",
      "[2]\ttrain-rmse:2.85276\teval-rmse:2.85515\ttrain-rmspe:0.938201\teval-rmspe:0.938294\n",
      "[3]\ttrain-rmse:2.0093\teval-rmse:2.01211\ttrain-rmspe:0.856727\teval-rmspe:0.856863\n",
      "[4]\ttrain-rmse:1.42244\teval-rmse:1.42561\ttrain-rmspe:0.743942\teval-rmspe:0.743855\n",
      "[5]\ttrain-rmse:1.01774\teval-rmse:1.02098\ttrain-rmspe:0.618844\teval-rmspe:0.617827\n",
      "[6]\ttrain-rmse:0.738185\teval-rmse:0.742076\ttrain-rmspe:0.502389\teval-rmspe:0.499632\n",
      "[7]\ttrain-rmse:0.550267\teval-rmse:0.554217\ttrain-rmspe:0.408672\teval-rmspe:0.402631\n",
      "[8]\ttrain-rmse:0.425362\teval-rmse:0.428756\ttrain-rmspe:0.342451\teval-rmspe:0.331743\n",
      "[9]\ttrain-rmse:0.344155\teval-rmse:0.346935\ttrain-rmspe:0.300751\teval-rmspe:0.285306\n",
      "[10]\ttrain-rmse:0.297942\teval-rmse:0.300779\ttrain-rmspe:0.282217\teval-rmspe:0.262427\n",
      "[11]\ttrain-rmse:0.269093\teval-rmse:0.271963\ttrain-rmspe:0.273396\teval-rmspe:0.251397\n",
      "[12]\ttrain-rmse:0.25172\teval-rmse:0.254379\ttrain-rmspe:0.269791\teval-rmspe:0.246297\n",
      "[13]\ttrain-rmse:0.242899\teval-rmse:0.245309\ttrain-rmspe:0.269702\teval-rmspe:0.245751\n",
      "[14]\ttrain-rmse:0.238614\teval-rmse:0.240779\ttrain-rmspe:0.272773\teval-rmspe:0.247519\n",
      "[15]\ttrain-rmse:0.221756\teval-rmse:0.223978\ttrain-rmspe:0.260757\teval-rmspe:0.233813\n",
      "[16]\ttrain-rmse:0.211943\teval-rmse:0.213792\ttrain-rmspe:0.256779\teval-rmspe:0.225395\n",
      "[17]\ttrain-rmse:0.208953\teval-rmse:0.210987\ttrain-rmspe:0.255951\teval-rmspe:0.224419\n",
      "[18]\ttrain-rmse:0.204876\teval-rmse:0.206666\ttrain-rmspe:0.254636\teval-rmspe:0.221384\n",
      "[19]\ttrain-rmse:0.193599\teval-rmse:0.195341\ttrain-rmspe:0.244545\teval-rmspe:0.208333\n",
      "[20]\ttrain-rmse:0.189157\teval-rmse:0.191037\ttrain-rmspe:0.24117\teval-rmspe:0.204568\n",
      "[21]\ttrain-rmse:0.186141\teval-rmse:0.18786\ttrain-rmspe:0.23784\teval-rmspe:0.201274\n",
      "[22]\ttrain-rmse:0.1841\teval-rmse:0.185702\ttrain-rmspe:0.235758\teval-rmspe:0.199085\n",
      "[23]\ttrain-rmse:0.181908\teval-rmse:0.183611\ttrain-rmspe:0.233711\teval-rmspe:0.196693\n",
      "[24]\ttrain-rmse:0.179809\teval-rmse:0.181572\ttrain-rmspe:0.231978\teval-rmspe:0.194801\n",
      "[25]\ttrain-rmse:0.173434\teval-rmse:0.175097\ttrain-rmspe:0.225855\teval-rmspe:0.187377\n",
      "[26]\ttrain-rmse:0.172563\teval-rmse:0.174297\ttrain-rmspe:0.224947\teval-rmspe:0.186495\n",
      "[27]\ttrain-rmse:0.169695\teval-rmse:0.1713\ttrain-rmspe:0.222381\teval-rmspe:0.183291\n",
      "[28]\ttrain-rmse:0.167268\teval-rmse:0.168989\ttrain-rmspe:0.21989\teval-rmspe:0.180595\n",
      "[29]\ttrain-rmse:0.166456\teval-rmse:0.168336\ttrain-rmspe:0.218932\teval-rmspe:0.179988\n",
      "[30]\ttrain-rmse:0.162835\teval-rmse:0.164825\ttrain-rmspe:0.21551\teval-rmspe:0.175788\n",
      "[31]\ttrain-rmse:0.161975\teval-rmse:0.164141\ttrain-rmspe:0.20627\teval-rmspe:0.175149\n",
      "[32]\ttrain-rmse:0.160055\teval-rmse:0.162414\ttrain-rmspe:0.204676\teval-rmspe:0.173431\n",
      "[33]\ttrain-rmse:0.158291\teval-rmse:0.160668\ttrain-rmspe:0.198966\teval-rmspe:0.17149\n",
      "[34]\ttrain-rmse:0.157381\teval-rmse:0.159853\ttrain-rmspe:0.198282\teval-rmspe:0.170619\n",
      "[35]\ttrain-rmse:0.156527\teval-rmse:0.159094\ttrain-rmspe:0.196114\teval-rmspe:0.169902\n",
      "[36]\ttrain-rmse:0.154498\teval-rmse:0.157168\ttrain-rmspe:0.182599\teval-rmspe:0.167808\n",
      "[37]\ttrain-rmse:0.151916\teval-rmse:0.154345\ttrain-rmspe:0.180072\teval-rmspe:0.164735\n",
      "[38]\ttrain-rmse:0.151014\teval-rmse:0.153498\ttrain-rmspe:0.179034\teval-rmspe:0.163803\n",
      "[39]\ttrain-rmse:0.148473\teval-rmse:0.151235\ttrain-rmspe:0.176579\teval-rmspe:0.161357\n",
      "[40]\ttrain-rmse:0.147431\teval-rmse:0.150208\ttrain-rmspe:0.175568\teval-rmspe:0.160212\n",
      "[41]\ttrain-rmse:0.146387\teval-rmse:0.149175\ttrain-rmspe:0.174612\teval-rmspe:0.15923\n",
      "[42]\ttrain-rmse:0.145185\teval-rmse:0.148017\ttrain-rmspe:0.1734\teval-rmspe:0.158078\n",
      "[43]\ttrain-rmse:0.140561\teval-rmse:0.14304\ttrain-rmspe:0.168429\teval-rmspe:0.152458\n",
      "[44]\ttrain-rmse:0.138749\teval-rmse:0.14127\ttrain-rmspe:0.166881\teval-rmspe:0.15054\n"
     ]
    }
   ],
   "source": [
    "num_boost_round = 45\n",
    "gbm = xgb.train(params,dtrain,num_boost_round,evals = watchlist,early_stopping_rounds=100,feval = rmspe_xg,verbose_eval=True)"
   ]
  },
  {
   "cell_type": "code",
   "execution_count": 39,
   "metadata": {
    "collapsed": false
   },
   "outputs": [
    {
     "ename": "NameError",
     "evalue": "name 'gbm' is not defined",
     "output_type": "error",
     "traceback": [
      "\u001b[0;31m---------------------------------------------------------------------------\u001b[0m",
      "\u001b[0;31mNameError\u001b[0m                                 Traceback (most recent call last)",
      "\u001b[0;32m<ipython-input-39-2cc795068a2b>\u001b[0m in \u001b[0;36m<module>\u001b[0;34m()\u001b[0m\n\u001b[0;32m----> 1\u001b[0;31m \u001b[0myhat\u001b[0m \u001b[0;34m=\u001b[0m \u001b[0mgbm\u001b[0m\u001b[0;34m.\u001b[0m\u001b[0mpredict\u001b[0m\u001b[0;34m(\u001b[0m\u001b[0mxgb\u001b[0m\u001b[0;34m.\u001b[0m\u001b[0mDMatrix\u001b[0m\u001b[0;34m(\u001b[0m\u001b[0mX_valid\u001b[0m\u001b[0;34m[\u001b[0m\u001b[0mfeatures\u001b[0m\u001b[0;34m]\u001b[0m\u001b[0;34m)\u001b[0m\u001b[0;34m)\u001b[0m\u001b[0;34m\u001b[0m\u001b[0m\n\u001b[0m\u001b[1;32m      2\u001b[0m \u001b[0merror\u001b[0m \u001b[0;34m=\u001b[0m \u001b[0mrmspe\u001b[0m\u001b[0;34m(\u001b[0m\u001b[0mX_valid\u001b[0m\u001b[0;34m.\u001b[0m\u001b[0mSales\u001b[0m\u001b[0;34m.\u001b[0m\u001b[0mvalues\u001b[0m\u001b[0;34m,\u001b[0m \u001b[0mnp\u001b[0m\u001b[0;34m.\u001b[0m\u001b[0mexpm1\u001b[0m\u001b[0;34m(\u001b[0m\u001b[0myhat\u001b[0m\u001b[0;34m)\u001b[0m\u001b[0;34m)\u001b[0m\u001b[0;34m\u001b[0m\u001b[0m\n",
      "\u001b[0;31mNameError\u001b[0m: name 'gbm' is not defined"
     ]
    }
   ],
   "source": [
    "yhat = gbm.predict(xgb.DMatrix(X_valid[features]))\n",
    "error = rmspe(X_valid.Sales.values, np.expm1(yhat))"
   ]
  },
  {
   "cell_type": "code",
   "execution_count": null,
   "metadata": {
    "collapsed": true
   },
   "outputs": [],
   "source": []
  }
 ],
 "metadata": {
  "anaconda-cloud": {},
  "kernelspec": {
   "display_name": "Python [conda root]",
   "language": "python",
   "name": "conda-root-py"
  },
  "language_info": {
   "codemirror_mode": {
    "name": "ipython",
    "version": 2
   },
   "file_extension": ".py",
   "mimetype": "text/x-python",
   "name": "python",
   "nbconvert_exporter": "python",
   "pygments_lexer": "ipython2",
   "version": "2.7.12"
  }
 },
 "nbformat": 4,
 "nbformat_minor": 1
}
