{
 "cells": [
  {
   "cell_type": "code",
   "execution_count": 1,
   "metadata": {
    "collapsed": true
   },
   "outputs": [],
   "source": [
    "import numpy as np # linear algebra\n",
    "import pandas as pd # data processing, CSV file I/O (e.g. pd.read_csv)\n",
    "import matplotlib.pyplot as plt\n",
    "import seaborn as sns\n",
    "from sklearn import model_selection, preprocessing\n",
    "import xgboost as xgb\n",
    "color = sns.color_palette()\n",
    "\n",
    "%matplotlib inline"
   ]
  },
  {
   "cell_type": "code",
   "execution_count": 45,
   "metadata": {
    "collapsed": false
   },
   "outputs": [
    {
     "name": "stdout",
     "output_type": "stream",
     "text": [
      "((30471, 391), (7662, 390))\n"
     ]
    }
   ],
   "source": [
    "train_df = pd.read_csv(\"../input/train.csv\", parse_dates=['timestamp'])\n",
    "test_df = pd.read_csv(\"../input/test.csv\", parse_dates=['timestamp'])\n",
    "macro_df = pd.read_csv(\"../input/macro.csv\", parse_dates=['timestamp'])\n",
    "train_df = pd.merge(train_df, macro_df, how='left', on='timestamp')\n",
    "test_df = pd.merge(test_df, macro_df, how='left', on='timestamp')\n",
    "print(train_df.shape, test_df.shape)"
   ]
  },
  {
   "cell_type": "code",
   "execution_count": 28,
   "metadata": {
    "collapsed": false
   },
   "outputs": [
    {
     "data": {
      "text/html": [
       "<div>\n",
       "<table border=\"1\" class=\"dataframe\">\n",
       "  <thead>\n",
       "    <tr style=\"text-align: right;\">\n",
       "      <th></th>\n",
       "      <th>Column Type</th>\n",
       "      <th>Count</th>\n",
       "    </tr>\n",
       "  </thead>\n",
       "  <tbody>\n",
       "    <tr>\n",
       "      <th>0</th>\n",
       "      <td>int64</td>\n",
       "      <td>158</td>\n",
       "    </tr>\n",
       "    <tr>\n",
       "      <th>1</th>\n",
       "      <td>datetime64[ns]</td>\n",
       "      <td>1</td>\n",
       "    </tr>\n",
       "    <tr>\n",
       "      <th>2</th>\n",
       "      <td>float64</td>\n",
       "      <td>214</td>\n",
       "    </tr>\n",
       "    <tr>\n",
       "      <th>3</th>\n",
       "      <td>object</td>\n",
       "      <td>18</td>\n",
       "    </tr>\n",
       "  </tbody>\n",
       "</table>\n",
       "</div>"
      ],
      "text/plain": [
       "      Column Type  Count\n",
       "0           int64    158\n",
       "1  datetime64[ns]      1\n",
       "2         float64    214\n",
       "3          object     18"
      ]
     },
     "execution_count": 28,
     "metadata": {},
     "output_type": "execute_result"
    }
   ],
   "source": [
    "dtype_df = train_df.dtypes.reset_index()\n",
    "dtype_df.columns = [\"Count\", \"Column Type\"]\n",
    "dtype_df.groupby(\"Column Type\").aggregate('count').reset_index()"
   ]
  },
  {
   "cell_type": "code",
   "execution_count": 23,
   "metadata": {
    "collapsed": false
   },
   "outputs": [],
   "source": [
    "ulimit = np.percentile(train_df.price_doc.values, 99)\n",
    "llimit = np.percentile(train_df.price_doc.values, 1)"
   ]
  },
  {
   "cell_type": "code",
   "execution_count": 24,
   "metadata": {
    "collapsed": true
   },
   "outputs": [],
   "source": [
    "train_df.ix[train_df['price_doc']>ulimit,'price_doc'] = ulimit\n",
    "train_df.ix[train_df['price_doc']<llimit,'price_doc'] = llimit"
   ]
  },
  {
   "cell_type": "code",
   "execution_count": 27,
   "metadata": {
    "collapsed": false
   },
   "outputs": [
    {
     "data": {
      "text/plain": [
       "<matplotlib.axes._subplots.AxesSubplot at 0x119222e10>"
      ]
     },
     "execution_count": 27,
     "metadata": {},
     "output_type": "execute_result"
    },
    {
     "data": {
      "image/png": "[encoded data removed]",
      "text/plain": [
       "<matplotlib.figure.Figure at 0x128956890>"
      ]
     },
     "metadata": {},
     "output_type": "display_data"
    }
   ],
   "source": [
    "sns.distplot(np.log(train_df.price_doc.values), bins=50, kde=True)"
   ]
  },
  {
   "cell_type": "code",
   "execution_count": 46,
   "metadata": {
    "collapsed": false
   },
   "outputs": [
    {
     "name": "stdout",
     "output_type": "stream",
     "text": [
      "product_type\n",
      "sub_area\n",
      "culture_objects_top_25\n",
      "thermal_power_plant_raion\n",
      "incineration_raion\n",
      "oil_chemistry_raion\n",
      "radiation_raion\n",
      "railroad_terminal_raion\n",
      "big_market_raion\n",
      "nuclear_reactor_raion\n",
      "detention_facility_raion\n",
      "water_1line\n",
      "big_road1_1line\n",
      "railroad_1line\n",
      "ecology\n",
      "child_on_acc_pre_school\n",
      "modern_education_share\n",
      "old_education_build_share\n"
     ]
    }
   ],
   "source": [
    "for f in train_df.columns:\n",
    "    if train_df[f].dtype=='object':\n",
    "        print(f)\n",
    "        lbl = preprocessing.LabelEncoder()\n",
    "        lbl.fit(list(train_df[f].values.astype('str')) + list(test_df[f].values.astype('str')))\n",
    "        train_df[f] = lbl.transform(list(train_df[f].values.astype('str')))\n",
    "        test_df[f] = lbl.transform(list(test_df[f].values.astype('str')))"
   ]
  },
  {
   "cell_type": "code",
   "execution_count": 47,
   "metadata": {
    "collapsed": false
   },
   "outputs": [
    {
     "name": "stdout",
     "output_type": "stream",
     "text": [
      "life_sq\n",
      "floor\n",
      "max_floor\n",
      "material\n",
      "build_year\n",
      "num_room\n",
      "kitch_sq\n",
      "state\n",
      "preschool_quota\n",
      "school_quota\n",
      "hospital_beds_raion\n",
      "raion_build_count_with_material_info\n",
      "build_count_block\n",
      "build_count_wood\n",
      "build_count_frame\n",
      "build_count_brick\n",
      "build_count_monolith\n",
      "build_count_panel\n",
      "build_count_foam\n",
      "build_count_slag\n",
      "build_count_mix\n",
      "raion_build_count_with_builddate_info\n",
      "build_count_before_1920\n",
      "build_count_1921-1945\n",
      "build_count_1946-1970\n",
      "build_count_1971-1995\n",
      "build_count_after_1995\n",
      "metro_min_walk\n",
      "metro_km_walk\n",
      "railroad_station_walk_km\n",
      "railroad_station_walk_min\n",
      "ID_railroad_station_walk\n",
      "cafe_sum_500_min_price_avg\n",
      "cafe_sum_500_max_price_avg\n",
      "cafe_avg_price_500\n",
      "cafe_sum_1000_min_price_avg\n",
      "cafe_sum_1000_max_price_avg\n",
      "cafe_avg_price_1000\n",
      "cafe_sum_1500_min_price_avg\n",
      "cafe_sum_1500_max_price_avg\n",
      "cafe_avg_price_1500\n",
      "cafe_sum_2000_min_price_avg\n",
      "cafe_sum_2000_max_price_avg\n",
      "cafe_avg_price_2000\n",
      "cafe_sum_3000_min_price_avg\n",
      "cafe_sum_3000_max_price_avg\n",
      "cafe_avg_price_3000\n",
      "prom_part_5000\n",
      "cafe_sum_5000_min_price_avg\n",
      "cafe_sum_5000_max_price_avg\n",
      "cafe_avg_price_5000\n",
      "grp\n",
      "grp_growth\n",
      "real_dispos_income_per_cap_growth\n",
      "profitable_enterpr_share\n",
      "unprofitable_enterpr_share\n",
      "share_own_revenues\n",
      "overdue_wages_per_cap\n",
      "fin_res_per_cap\n",
      "marriages_per_1000_cap\n",
      "divorce_rate\n",
      "construction_value\n",
      "invest_fixed_assets_phys\n",
      "pop_migration\n",
      "pop_total_inc\n",
      "housing_fund_sqm\n",
      "lodging_sqm_per_cap\n",
      "water_pipes_share\n",
      "baths_share\n",
      "sewerage_share\n",
      "gas_share\n",
      "hot_water_share\n",
      "electric_stove_share\n",
      "heating_share\n",
      "old_house_share\n",
      "infant_mortarity_per_1000_cap\n",
      "perinatal_mort_per_1000_cap\n",
      "incidence_population\n",
      "load_of_teachers_preschool_per_teacher\n",
      "provision_doctors\n",
      "power_clinics\n",
      "hospital_beds_available_per_cap\n",
      "hospital_bed_occupancy_per_year\n",
      "provision_retail_space_sqm\n",
      "provision_retail_space_modern_sqm\n",
      "theaters_viewers_per_1000_cap\n",
      "museum_visitis_per_100_cap\n",
      "population_reg_sports_share\n",
      "students_reg_sports_share\n",
      "apartment_build\n"
     ]
    }
   ],
   "source": [
    "for f in train_df.columns:\n",
    "    if train_df[f].isnull().sum()>0:\n",
    "        print f"
   ]
  },
  {
   "cell_type": "code",
   "execution_count": 48,
   "metadata": {
    "collapsed": true
   },
   "outputs": [],
   "source": [
    "train_df.fillna(-99, inplace=True)\n",
    "test_df.fillna(-99, inplace=True)"
   ]
  },
  {
   "cell_type": "code",
   "execution_count": 49,
   "metadata": {
    "collapsed": true
   },
   "outputs": [],
   "source": [
    "# year #\n",
    "train_df[\"year\"] = train_df[\"timestamp\"].dt.year\n",
    "test_df[\"year\"] = test_df[\"timestamp\"].dt.year\n",
    "\n",
    "# month of year #\n",
    "train_df[\"month_of_year\"] = train_df[\"timestamp\"].dt.month\n",
    "test_df[\"month_of_year\"] = test_df[\"timestamp\"].dt.month\n",
    "\n",
    "# week of year #\n",
    "train_df[\"week_of_year\"] = train_df[\"timestamp\"].dt.weekofyear\n",
    "test_df[\"week_of_year\"] = test_df[\"timestamp\"].dt.weekofyear\n",
    "\n",
    "# day of week #\n",
    "train_df[\"day_of_week\"] = train_df[\"timestamp\"].dt.weekday\n",
    "test_df[\"day_of_week\"] = test_df[\"timestamp\"].dt.weekday"
   ]
  },
  {
   "cell_type": "code",
   "execution_count": 50,
   "metadata": {
    "collapsed": true
   },
   "outputs": [],
   "source": [
    "train_df[\"ratio_life_sq_full_sq\"] = train_df[\"life_sq\"] / np.maximum(train_df[\"full_sq\"].astype(\"float\"),1)\n",
    "test_df[\"ratio_life_sq_full_sq\"] = test_df[\"life_sq\"] / np.maximum(test_df[\"full_sq\"].astype(\"float\"),1)\n",
    "train_df[\"ratio_life_sq_full_sq\"].ix[train_df[\"ratio_life_sq_full_sq\"]<0] = 0\n",
    "train_df[\"ratio_life_sq_full_sq\"].ix[train_df[\"ratio_life_sq_full_sq\"]>1] = 1\n",
    "test_df[\"ratio_life_sq_full_sq\"].ix[test_df[\"ratio_life_sq_full_sq\"]<0] = 0\n",
    "test_df[\"ratio_life_sq_full_sq\"].ix[test_df[\"ratio_life_sq_full_sq\"]>1] = 1"
   ]
  },
  {
   "cell_type": "code",
   "execution_count": 51,
   "metadata": {
    "collapsed": true
   },
   "outputs": [],
   "source": [
    "train_df[\"ratio_kitch_sq_life_sq\"] = train_df[\"kitch_sq\"] / np.maximum(train_df[\"life_sq\"].astype(\"float\"),1)\n",
    "test_df[\"ratio_kitch_sq_life_sq\"] = test_df[\"kitch_sq\"] / np.maximum(test_df[\"life_sq\"].astype(\"float\"),1)\n",
    "train_df[\"ratio_kitch_sq_life_sq\"].ix[train_df[\"ratio_kitch_sq_life_sq\"]<0] = 0\n",
    "train_df[\"ratio_kitch_sq_life_sq\"].ix[train_df[\"ratio_kitch_sq_life_sq\"]>1] = 1\n",
    "test_df[\"ratio_kitch_sq_life_sq\"].ix[test_df[\"ratio_kitch_sq_life_sq\"]<0] = 0\n",
    "test_df[\"ratio_kitch_sq_life_sq\"].ix[test_df[\"ratio_kitch_sq_life_sq\"]>1] = 1"
   ]
  },
  {
   "cell_type": "code",
   "execution_count": 52,
   "metadata": {
    "collapsed": true
   },
   "outputs": [],
   "source": [
    "train_df[\"ratio_kitch_sq_full_sq\"] = train_df[\"kitch_sq\"] / np.maximum(train_df[\"full_sq\"].astype(\"float\"),1)\n",
    "test_df[\"ratio_kitch_sq_full_sq\"] = test_df[\"kitch_sq\"] / np.maximum(test_df[\"full_sq\"].astype(\"float\"),1)\n",
    "train_df[\"ratio_kitch_sq_full_sq\"].ix[train_df[\"ratio_kitch_sq_full_sq\"]<0] = 0\n",
    "train_df[\"ratio_kitch_sq_full_sq\"].ix[train_df[\"ratio_kitch_sq_full_sq\"]>1] = 1\n",
    "test_df[\"ratio_kitch_sq_full_sq\"].ix[test_df[\"ratio_kitch_sq_full_sq\"]<0] = 0\n",
    "test_df[\"ratio_kitch_sq_full_sq\"].ix[test_df[\"ratio_kitch_sq_full_sq\"]>1] = 1"
   ]
  },
  {
   "cell_type": "code",
   "execution_count": 53,
   "metadata": {
    "collapsed": true
   },
   "outputs": [],
   "source": [
    "train_df[\"ratio_floor_max_floor\"] = train_df[\"floor\"] / train_df[\"max_floor\"].astype(\"float\")\n",
    "test_df[\"ratio_floor_max_floor\"] = test_df[\"floor\"] / test_df[\"max_floor\"].astype(\"float\")\n",
    "train_df['ratio_floor_max_floor'].ix[train_df['ratio_floor_max_floor']<0] = 0\n",
    "train_df['ratio_floor_max_floor'].ix[train_df['ratio_floor_max_floor']>1] = 1\n",
    "test_df['ratio_floor_max_floor'].ix[test_df['ratio_floor_max_floor']<0] = 0\n",
    "test_df['ratio_floor_max_floor'].ix[test_df['ratio_floor_max_floor']>1] = 1"
   ]
  },
  {
   "cell_type": "code",
   "execution_count": 54,
   "metadata": {
    "collapsed": true
   },
   "outputs": [],
   "source": [
    "train_df[\"age_of_building\"] = train_df[\"build_year\"] - train_df[\"year\"]\n",
    "test_df[\"age_of_building\"] = test_df[\"build_year\"] - test_df[\"year\"]"
   ]
  },
  {
   "cell_type": "code",
   "execution_count": 55,
   "metadata": {
    "collapsed": false
   },
   "outputs": [
    {
     "data": {
      "text/html": [
       "<div>\n",
       "<table border=\"1\" class=\"dataframe\">\n",
       "  <thead>\n",
       "    <tr style=\"text-align: right;\">\n",
       "      <th></th>\n",
       "      <th>Column Type</th>\n",
       "      <th>Count</th>\n",
       "    </tr>\n",
       "  </thead>\n",
       "  <tbody>\n",
       "    <tr>\n",
       "      <th>0</th>\n",
       "      <td>int64</td>\n",
       "      <td>181</td>\n",
       "    </tr>\n",
       "    <tr>\n",
       "      <th>1</th>\n",
       "      <td>datetime64[ns]</td>\n",
       "      <td>1</td>\n",
       "    </tr>\n",
       "    <tr>\n",
       "      <th>2</th>\n",
       "      <td>float64</td>\n",
       "      <td>218</td>\n",
       "    </tr>\n",
       "  </tbody>\n",
       "</table>\n",
       "</div>"
      ],
      "text/plain": [
       "      Column Type  Count\n",
       "0           int64    181\n",
       "1  datetime64[ns]      1\n",
       "2         float64    218"
      ]
     },
     "execution_count": 55,
     "metadata": {},
     "output_type": "execute_result"
    }
   ],
   "source": [
    "dtype_df = train_df.dtypes.reset_index()\n",
    "dtype_df.columns = [\"Count\", \"Column Type\"]\n",
    "dtype_df.groupby(\"Column Type\").aggregate('count').reset_index()"
   ]
  },
  {
   "cell_type": "code",
   "execution_count": 56,
   "metadata": {
    "collapsed": false
   },
   "outputs": [
    {
     "data": {
      "text/html": [
       "<div>\n",
       "<table border=\"1\" class=\"dataframe\">\n",
       "  <thead>\n",
       "    <tr style=\"text-align: right;\">\n",
       "      <th></th>\n",
       "      <th>id</th>\n",
       "      <th>timestamp</th>\n",
       "      <th>full_sq</th>\n",
       "      <th>life_sq</th>\n",
       "      <th>floor</th>\n",
       "      <th>max_floor</th>\n",
       "      <th>material</th>\n",
       "      <th>build_year</th>\n",
       "      <th>num_room</th>\n",
       "      <th>kitch_sq</th>\n",
       "      <th>...</th>\n",
       "      <th>apartment_fund_sqm</th>\n",
       "      <th>year</th>\n",
       "      <th>month_of_year</th>\n",
       "      <th>week_of_year</th>\n",
       "      <th>day_of_week</th>\n",
       "      <th>ratio_life_sq_full_sq</th>\n",
       "      <th>ratio_kitch_sq_life_sq</th>\n",
       "      <th>ratio_kitch_sq_full_sq</th>\n",
       "      <th>ratio_floor_max_floor</th>\n",
       "      <th>age_of_building</th>\n",
       "    </tr>\n",
       "  </thead>\n",
       "  <tbody>\n",
       "    <tr>\n",
       "      <th>0</th>\n",
       "      <td>1</td>\n",
       "      <td>2011-08-20</td>\n",
       "      <td>43</td>\n",
       "      <td>27.0</td>\n",
       "      <td>4.0</td>\n",
       "      <td>-99.0</td>\n",
       "      <td>-99.0</td>\n",
       "      <td>-99.0</td>\n",
       "      <td>-99.0</td>\n",
       "      <td>-99.0</td>\n",
       "      <td>...</td>\n",
       "      <td>230310.0</td>\n",
       "      <td>2011</td>\n",
       "      <td>8</td>\n",
       "      <td>33</td>\n",
       "      <td>5</td>\n",
       "      <td>0.627907</td>\n",
       "      <td>0.0</td>\n",
       "      <td>0.0</td>\n",
       "      <td>0.0</td>\n",
       "      <td>-2110.0</td>\n",
       "    </tr>\n",
       "    <tr>\n",
       "      <th>1</th>\n",
       "      <td>2</td>\n",
       "      <td>2011-08-23</td>\n",
       "      <td>34</td>\n",
       "      <td>19.0</td>\n",
       "      <td>3.0</td>\n",
       "      <td>-99.0</td>\n",
       "      <td>-99.0</td>\n",
       "      <td>-99.0</td>\n",
       "      <td>-99.0</td>\n",
       "      <td>-99.0</td>\n",
       "      <td>...</td>\n",
       "      <td>230310.0</td>\n",
       "      <td>2011</td>\n",
       "      <td>8</td>\n",
       "      <td>34</td>\n",
       "      <td>1</td>\n",
       "      <td>0.558824</td>\n",
       "      <td>0.0</td>\n",
       "      <td>0.0</td>\n",
       "      <td>0.0</td>\n",
       "      <td>-2110.0</td>\n",
       "    </tr>\n",
       "    <tr>\n",
       "      <th>2</th>\n",
       "      <td>3</td>\n",
       "      <td>2011-08-27</td>\n",
       "      <td>43</td>\n",
       "      <td>29.0</td>\n",
       "      <td>2.0</td>\n",
       "      <td>-99.0</td>\n",
       "      <td>-99.0</td>\n",
       "      <td>-99.0</td>\n",
       "      <td>-99.0</td>\n",
       "      <td>-99.0</td>\n",
       "      <td>...</td>\n",
       "      <td>230310.0</td>\n",
       "      <td>2011</td>\n",
       "      <td>8</td>\n",
       "      <td>34</td>\n",
       "      <td>5</td>\n",
       "      <td>0.674419</td>\n",
       "      <td>0.0</td>\n",
       "      <td>0.0</td>\n",
       "      <td>0.0</td>\n",
       "      <td>-2110.0</td>\n",
       "    </tr>\n",
       "    <tr>\n",
       "      <th>3</th>\n",
       "      <td>4</td>\n",
       "      <td>2011-09-01</td>\n",
       "      <td>89</td>\n",
       "      <td>50.0</td>\n",
       "      <td>9.0</td>\n",
       "      <td>-99.0</td>\n",
       "      <td>-99.0</td>\n",
       "      <td>-99.0</td>\n",
       "      <td>-99.0</td>\n",
       "      <td>-99.0</td>\n",
       "      <td>...</td>\n",
       "      <td>230310.0</td>\n",
       "      <td>2011</td>\n",
       "      <td>9</td>\n",
       "      <td>35</td>\n",
       "      <td>3</td>\n",
       "      <td>0.561798</td>\n",
       "      <td>0.0</td>\n",
       "      <td>0.0</td>\n",
       "      <td>0.0</td>\n",
       "      <td>-2110.0</td>\n",
       "    </tr>\n",
       "    <tr>\n",
       "      <th>4</th>\n",
       "      <td>5</td>\n",
       "      <td>2011-09-05</td>\n",
       "      <td>77</td>\n",
       "      <td>77.0</td>\n",
       "      <td>4.0</td>\n",
       "      <td>-99.0</td>\n",
       "      <td>-99.0</td>\n",
       "      <td>-99.0</td>\n",
       "      <td>-99.0</td>\n",
       "      <td>-99.0</td>\n",
       "      <td>...</td>\n",
       "      <td>230310.0</td>\n",
       "      <td>2011</td>\n",
       "      <td>9</td>\n",
       "      <td>36</td>\n",
       "      <td>0</td>\n",
       "      <td>1.000000</td>\n",
       "      <td>0.0</td>\n",
       "      <td>0.0</td>\n",
       "      <td>0.0</td>\n",
       "      <td>-2110.0</td>\n",
       "    </tr>\n",
       "  </tbody>\n",
       "</table>\n",
       "<p>5 rows × 400 columns</p>\n",
       "</div>"
      ],
      "text/plain": [
       "   id  timestamp  full_sq  life_sq  floor  max_floor  material  build_year  \\\n",
       "0   1 2011-08-20       43     27.0    4.0      -99.0     -99.0       -99.0   \n",
       "1   2 2011-08-23       34     19.0    3.0      -99.0     -99.0       -99.0   \n",
       "2   3 2011-08-27       43     29.0    2.0      -99.0     -99.0       -99.0   \n",
       "3   4 2011-09-01       89     50.0    9.0      -99.0     -99.0       -99.0   \n",
       "4   5 2011-09-05       77     77.0    4.0      -99.0     -99.0       -99.0   \n",
       "\n",
       "   num_room  kitch_sq       ...         apartment_fund_sqm  year  \\\n",
       "0     -99.0     -99.0       ...                   230310.0  2011   \n",
       "1     -99.0     -99.0       ...                   230310.0  2011   \n",
       "2     -99.0     -99.0       ...                   230310.0  2011   \n",
       "3     -99.0     -99.0       ...                   230310.0  2011   \n",
       "4     -99.0     -99.0       ...                   230310.0  2011   \n",
       "\n",
       "   month_of_year  week_of_year  day_of_week  ratio_life_sq_full_sq  \\\n",
       "0              8            33            5               0.627907   \n",
       "1              8            34            1               0.558824   \n",
       "2              8            34            5               0.674419   \n",
       "3              9            35            3               0.561798   \n",
       "4              9            36            0               1.000000   \n",
       "\n",
       "   ratio_kitch_sq_life_sq  ratio_kitch_sq_full_sq  ratio_floor_max_floor  \\\n",
       "0                     0.0                     0.0                    0.0   \n",
       "1                     0.0                     0.0                    0.0   \n",
       "2                     0.0                     0.0                    0.0   \n",
       "3                     0.0                     0.0                    0.0   \n",
       "4                     0.0                     0.0                    0.0   \n",
       "\n",
       "   age_of_building  \n",
       "0          -2110.0  \n",
       "1          -2110.0  \n",
       "2          -2110.0  \n",
       "3          -2110.0  \n",
       "4          -2110.0  \n",
       "\n",
       "[5 rows x 400 columns]"
      ]
     },
     "execution_count": 56,
     "metadata": {},
     "output_type": "execute_result"
    }
   ],
   "source": [
    "train_df.head()"
   ]
  },
  {
   "cell_type": "code",
   "execution_count": null,
   "metadata": {
    "collapsed": true
   },
   "outputs": [],
   "source": []
  },
  {
   "cell_type": "code",
   "execution_count": 57,
   "metadata": {
    "collapsed": false
   },
   "outputs": [
    {
     "name": "stderr",
     "output_type": "stream",
     "text": [
      "/Users/zhangtao/anaconda/lib/python2.7/site-packages/sklearn/cross_validation.py:44: DeprecationWarning: This module was deprecated in version 0.18 in favor of the model_selection module into which all the refactored classes and functions are moved. Also note that the interface of the new CV iterators are different from that of this module. This module will be removed in 0.20.\n",
      "  \"This module will be removed in 0.20.\", DeprecationWarning)\n",
      "/Users/zhangtao/anaconda/lib/python2.7/site-packages/sklearn/grid_search.py:43: DeprecationWarning: This module was deprecated in version 0.18 in favor of the model_selection module into which all the refactored classes and functions are moved. This module will be removed in 0.20.\n",
      "  DeprecationWarning)\n"
     ]
    }
   ],
   "source": [
    "import xgboost as xgb\n",
    "from xgboost.sklearn import XGBClassifier\n",
    "from sklearn import cross_validation, metrics   #Additional     scklearn functions\n",
    "from sklearn.grid_search import GridSearchCV   #Perforing grid search\n",
    "target = 'price_doc'\n",
    "IDcol = 'id'"
   ]
  },
  {
   "cell_type": "code",
   "execution_count": 59,
   "metadata": {
    "collapsed": false
   },
   "outputs": [],
   "source": [
    "def modelfit(alg, dtrain, predictors,useTrainCV=True, cv_folds=5, early_stopping_rounds=50):\n",
    "    if useTrainCV:\n",
    "        xgb_param = alg.get_xgb_params()\n",
    "        xgtrain = xgb.DMatrix(dtrain[predictors].values, label=dtrain[target].values)\n",
    "        cvresult = xgb.cv(xgb_param, xgtrain, num_boost_round=alg.get_params()['n_estimators'], nfold=cv_folds,\n",
    "            metrics='auc', early_stopping_rounds=early_stopping_rounds, show_progress=False)\n",
    "        alg.set_params(n_estimators=cvresult.shape[0])\n",
    "\n",
    "    #Fit the algorithm on the data\n",
    "    alg.fit(dtrain[predictors], dtrain[taget],eval_metric='auc')\n",
    "\n",
    "    #Predict training set:\n",
    "    dtrain_predictions = alg.predict(dtrain[predictors])\n",
    "    dtrain_predprob = alg.predict_proba(dtrain[predictors])[:,1]\n",
    "\n",
    "    #Print model report:\n",
    "    print \"\\nModel Report\"\n",
    "    print \"Accuracy : %.4g\" % metrics.accuracy_score(dtrain['Disbursed'].values, dtrain_predictions)\n",
    "    print \"AUC Score (Train): %f\" % metrics.roc_auc_score(dtrain['Disbursed'], dtrain_predprob)\n",
    "    \n",
    "    feat_imp = pd.Series(alg.booster().get_fscore()).sort_values(ascending=False)\n",
    "    feat_imp.plot(kind='bar', title='Feature Importances')\n",
    "    plt.ylabel('Feature Importance Score')"
   ]
  },
  {
   "cell_type": "code",
   "execution_count": 70,
   "metadata": {
    "collapsed": true
   },
   "outputs": [],
   "source": [
    "import math"
   ]
  },
  {
   "cell_type": "code",
   "execution_count": 61,
   "metadata": {
    "collapsed": true
   },
   "outputs": [],
   "source": [
    "def rmsle(preds, dtrain):\n",
    "    labels = dtrain.get_label()\n",
    "    assert len(preds) == len(labels)\n",
    "    labels = labels.tolist()\n",
    "    preds = preds.tolist()\n",
    "    terms_to_sum = [(math.log(labels[i] + 1) - math.log(max(0, preds[i]) + 1)) ** 2.0 for i, pred in enumerate(labels)]\n",
    "    return 'rmsle', (sum(terms_to_sum) * (1.0 / len(preds))) ** 0.5"
   ]
  },
  {
   "cell_type": "code",
   "execution_count": 64,
   "metadata": {
    "collapsed": false
   },
   "outputs": [],
   "source": [
    "predictors = [x for x in train_df.columns if x not in ['timestamp',target,IDcol]]\n",
    "x_train = train_df[predictors].values\n",
    "x_test = test_df[predictors].values\n",
    "y_train = train_df['price_doc'].values"
   ]
  },
  {
   "cell_type": "code",
   "execution_count": 67,
   "metadata": {
    "collapsed": false
   },
   "outputs": [],
   "source": [
    "split = 25000\n",
    "x_train, y_train, x_valid, y_valid = x_train[:split], y_train[:split], x_train[split:], y_train[split:]\n",
    "d_train = xgb.DMatrix(x_train, label=y_train)\n",
    "d_valid = xgb.DMatrix(x_valid, label=y_valid)"
   ]
  },
  {
   "cell_type": "code",
   "execution_count": 80,
   "metadata": {
    "collapsed": true
   },
   "outputs": [],
   "source": [
    "xgb_params = {\n",
    "    'eta': 0.05,\n",
    "    'max_depth': 4,\n",
    "    'subsample': 0.7,\n",
    "    'colsample_bytree': 0.7,\n",
    "    'objective': 'reg:linear',\n",
    "    'eval_metric': 'rmse',\n",
    "    'min_child_weight':1,\n",
    "    'silent': 1,\n",
    "    'seed':0\n",
    "}"
   ]
  },
  {
   "cell_type": "code",
   "execution_count": 81,
   "metadata": {
    "collapsed": false
   },
   "outputs": [
    {
     "name": "stdout",
     "output_type": "stream",
     "text": [
      "[0]\ttrain-rmse:7.96271e+06\tvalid-rmse:9.32652e+06\ttrain-rmsle:2.94687\tvalid-rmsle:3.07426\n",
      "Multiple eval metrics have been passed: 'valid-rmsle' will be used for early stopping.\n",
      "\n",
      "Will train until valid-rmsle hasn't improved in 50 rounds.\n",
      "[5]\ttrain-rmse:6.48436e+06\tvalid-rmse:7.76074e+06\ttrain-rmsle:1.32279\tvalid-rmsle:1.41365\n",
      "[10]\ttrain-rmse:5.39294e+06\tvalid-rmse:6.57911e+06\ttrain-rmsle:0.887284\tvalid-rmsle:0.955914\n",
      "[15]\ttrain-rmse:4.59016e+06\tvalid-rmse:5.71937e+06\ttrain-rmsle:0.685512\tvalid-rmsle:0.734888\n",
      "[20]\ttrain-rmse:3.99511e+06\tvalid-rmse:5.0607e+06\ttrain-rmsle:0.583971\tvalid-rmsle:0.612382\n",
      "[25]\ttrain-rmse:3.58102e+06\tvalid-rmse:4.56459e+06\ttrain-rmsle:0.531026\tvalid-rmsle:0.538709\n",
      "[30]\ttrain-rmse:3.2749e+06\tvalid-rmse:4.20273e+06\ttrain-rmsle:0.504605\tvalid-rmsle:0.495962\n",
      "[35]\ttrain-rmse:3.05513e+06\tvalid-rmse:3.90884e+06\ttrain-rmsle:0.491933\tvalid-rmsle:0.470001\n",
      "[40]\ttrain-rmse:2.91359e+06\tvalid-rmse:3.72815e+06\ttrain-rmsle:0.486151\tvalid-rmsle:0.454128\n",
      "[45]\ttrain-rmse:2.80787e+06\tvalid-rmse:3.58319e+06\ttrain-rmsle:0.484058\tvalid-rmsle:0.44458\n",
      "[50]\ttrain-rmse:2.72537e+06\tvalid-rmse:3.46245e+06\ttrain-rmsle:0.483237\tvalid-rmsle:0.438325\n",
      "[55]\ttrain-rmse:2.65236e+06\tvalid-rmse:3.36542e+06\ttrain-rmsle:0.483085\tvalid-rmsle:0.434228\n",
      "[60]\ttrain-rmse:2.60681e+06\tvalid-rmse:3.29108e+06\ttrain-rmsle:0.48331\tvalid-rmsle:0.431619\n",
      "[65]\ttrain-rmse:2.5711e+06\tvalid-rmse:3.23763e+06\ttrain-rmsle:0.483639\tvalid-rmsle:0.430072\n",
      "[70]\ttrain-rmse:2.53499e+06\tvalid-rmse:3.19349e+06\ttrain-rmsle:0.483541\tvalid-rmsle:0.42861\n",
      "[75]\ttrain-rmse:2.50878e+06\tvalid-rmse:3.16022e+06\ttrain-rmsle:0.483307\tvalid-rmsle:0.427481\n",
      "[80]\ttrain-rmse:2.48379e+06\tvalid-rmse:3.11957e+06\ttrain-rmsle:0.48301\tvalid-rmsle:0.426407\n",
      "[85]\ttrain-rmse:2.46448e+06\tvalid-rmse:3.09126e+06\ttrain-rmsle:0.482812\tvalid-rmsle:0.425504\n",
      "[90]\ttrain-rmse:2.44281e+06\tvalid-rmse:3.0651e+06\ttrain-rmsle:0.482502\tvalid-rmsle:0.424837\n",
      "[95]\ttrain-rmse:2.42856e+06\tvalid-rmse:3.04713e+06\ttrain-rmsle:0.482251\tvalid-rmsle:0.424221\n"
     ]
    }
   ],
   "source": [
    "watchlist = [(d_train, 'train'), (d_valid, 'valid')]\n",
    "clf = xgb.train(xgb_params, d_train, 100, watchlist, feval=rmsle, early_stopping_rounds=50,verbose_eval=5)\n",
    "\n",
    "p_test = clf.predict(xgb.DMatrix(x_test))"
   ]
  },
  {
   "cell_type": "code",
   "execution_count": 72,
   "metadata": {
    "collapsed": true
   },
   "outputs": [],
   "source": [
    "sub = pd.DataFrame()\n",
    "sub['id'] = test_df['id'].values\n",
    "sub['price_doc'] = p_test\n",
    "sub.to_csv('xgb.csv', index=False)"
   ]
  },
  {
   "cell_type": "code",
   "execution_count": 86,
   "metadata": {
    "collapsed": false
   },
   "outputs": [],
   "source": [
    "fscore = clf.get_fscore()\n",
    "feat_importances = []\n",
    "for ft, score in fscore.iteritems():\n",
    "    feat_importances.append({'Feature': ft, 'Importance': score})\n",
    "feat_importances = pd.DataFrame(feat_importances)\n",
    "feat_importances = feat_importances.sort_values(\n",
    "    by='Importance', ascending=False).reset_index(drop=True)\n",
    "# Divide the importances by the sum of all importances\n",
    "# to get relative importances. By using relative importances\n",
    "# the sum of all importances will equal to 1, i.e.,\n",
    "# np.sum(feat_importances['importance']) == 1\n",
    "feat_importances['Importance'] /= feat_importances['Importance'].sum()"
   ]
  },
  {
   "cell_type": "code",
   "execution_count": 97,
   "metadata": {
    "collapsed": false
   },
   "outputs": [],
   "source": [
    "Flist = feat_importances[:27].Feature.values"
   ]
  },
  {
   "cell_type": "code",
   "execution_count": 105,
   "metadata": {
    "collapsed": false
   },
   "outputs": [],
   "source": [
    "for i in Flist:\n",
    "    i = i[1:]"
   ]
  },
  {
   "cell_type": "code",
   "execution_count": null,
   "metadata": {
    "collapsed": true
   },
   "outputs": [],
   "source": []
  }
 ],
 "metadata": {
  "kernelspec": {
   "display_name": "Python [conda root]",
   "language": "python",
   "name": "conda-root-py"
  },
  "language_info": {
   "codemirror_mode": {
    "name": "ipython",
    "version": 2
   },
   "file_extension": ".py",
   "mimetype": "text/x-python",
   "name": "python",
   "nbconvert_exporter": "python",
   "pygments_lexer": "ipython2",
   "version": "2.7.12"
  }
 },
 "nbformat": 4,
 "nbformat_minor": 1
}
